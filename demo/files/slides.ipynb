{
 "cells": [
  {
   "cell_type": "markdown",
   "id": "a3abf27e",
   "metadata": {
    "editable": true,
    "slideshow": {
     "slide_type": "slide"
    },
    "specta": {
     "hideTopbar": true,
     "showSource": "Yes"
    },
    "tags": []
   },
   "source": [
    "# Specta Presentation"
   ]
  },
  {
   "cell_type": "markdown",
   "id": "a1e2c4aa-0322-433e-8b1c-efc549abe1b9",
   "metadata": {
    "editable": true,
    "slideshow": {
     "slide_type": ""
    },
    "tags": []
   },
   "source": [
    "## First Section"
   ]
  },
  {
   "cell_type": "markdown",
   "id": "d200215c-d846-4e05-b9ef-a7089976da74",
   "metadata": {
    "editable": true,
    "slideshow": {
     "slide_type": ""
    },
    "tags": []
   },
   "source": [
    "- Some text here\n",
    "- Code in the next cell"
   ]
  },
  {
   "cell_type": "code",
   "execution_count": null,
   "id": "c7b9a9df",
   "metadata": {
    "editable": true,
    "slideshow": {
     "slide_type": "subslide"
    },
    "specta": {
     "hideTopbar": false,
     "showOutput": "No",
     "showSource": "Yes"
    },
    "tags": [],
    "vscode": {
     "languageId": "plaintext"
    }
   },
   "outputs": [],
   "source": [
    "from ipecharts.echarts import EChartsWidget, EChartsRawWidget\n",
    "from ipecharts.option import Option, XAxis, YAxis, Legend, Tooltip\n",
    "from ipecharts.option.series import Line\n",
    "from ipywidgets.widgets import Button\n",
    "import random"
   ]
  },
  {
   "cell_type": "code",
   "execution_count": null,
   "id": "55a66400",
   "metadata": {
    "editable": true,
    "slideshow": {
     "slide_type": "subslide"
    },
    "specta": {
     "showOutput": "No",
     "showSource": "Yes"
    },
    "tags": [
     "specta:visible"
    ],
    "vscode": {
     "languageId": "plaintext"
    }
   },
   "outputs": [],
   "source": [
    "line = Line(smooth=True, areaStyle={})\n",
    "\n",
    "option = Option(\n",
    "    xAxis=XAxis(type=\"category\"),\n",
    "    yAxis=YAxis(type=\"value\"),\n",
    "    series=[line],\n",
    "    tooltip=Tooltip(),\n",
    "    legend=Legend()\n",
    ")\n",
    "line.data = [1.,4.6,3.,6,4,7,9,3,9,3]"
   ]
  },
  {
   "cell_type": "code",
   "execution_count": null,
   "id": "d3476ccc",
   "metadata": {
    "editable": true,
    "slideshow": {
     "slide_type": "subslide"
    },
    "specta": {
     "showOutput": "No",
     "showSource": "Yes"
    },
    "tags": [
     "specta:visible"
    ],
    "vscode": {
     "languageId": "plaintext"
    }
   },
   "outputs": [],
   "source": [
    "button = Button(description=\"Generate random data\")\n",
    "\n",
    "def on_button_clicked(b):\n",
    "    data = random.sample(range(1, 100), 10)\n",
    "    line.data = data\n",
    "\n",
    "button.on_click(on_button_clicked)"
   ]
  },
  {
   "cell_type": "code",
   "execution_count": null,
   "id": "ef1ec21a",
   "metadata": {
    "editable": true,
    "slideshow": {
     "slide_type": "subslide"
    },
    "specta": {
     "showOutput": "No",
     "showSource": "Yes"
    },
    "tags": [],
    "vscode": {
     "languageId": "plaintext"
    }
   },
   "outputs": [],
   "source": [
    "chart = EChartsWidget(option=option)"
   ]
  },
  {
   "cell_type": "code",
   "execution_count": null,
   "id": "56a766f3",
   "metadata": {
    "editable": true,
    "slideshow": {
     "slide_type": "skip"
    },
    "tags": [],
    "vscode": {
     "languageId": "plaintext"
    }
   },
   "outputs": [],
   "source": [
    "display(button, chart) # Hidden cell"
   ]
  },
  {
   "cell_type": "markdown",
   "id": "b7cb5590-48dd-4487-a5cd-77eeb76599bb",
   "metadata": {
    "editable": true,
    "slideshow": {
     "slide_type": "fragment"
    },
    "tags": []
   },
   "source": [
    "## Second section"
   ]
  },
  {
   "cell_type": "markdown",
   "id": "a8c02c9e-4a41-4da9-8150-18dfbfceb118",
   "metadata": {
    "editable": true,
    "slideshow": {
     "slide_type": "fragment"
    },
    "tags": []
   },
   "source": [
    "We explore the Lorenz system of differential equations:\n",
    "\n",
    "$$\n",
    "\\begin{aligned}\n",
    "\\dot{x} & = \\sigma(y-x) \\\\\n",
    "\\dot{y} & = \\rho x - y - xz \\\\\n",
    "\\dot{z} & = -\\beta z + xy\n",
    "\\end{aligned}\n",
    "$$\n",
    "\n",
    "Let's change (\\\\(\\sigma\\\\), \\\\(\\beta\\\\), \\\\(\\rho\\\\)) with ipywidgets and examine the trajectories."
   ]
  },
  {
   "cell_type": "markdown",
   "id": "0fe600e1-e807-4400-9cdc-bd83ce817f3b",
   "metadata": {
    "editable": true,
    "slideshow": {
     "slide_type": "fragment"
    },
    "tags": []
   },
   "source": [
    "**End of second section**"
   ]
  },
  {
   "cell_type": "code",
   "execution_count": null,
   "id": "c8bb3b0e-bd20-424a-bc1a-835b3ab94aec",
   "metadata": {
    "editable": true,
    "slideshow": {
     "slide_type": ""
    },
    "tags": []
   },
   "outputs": [],
   "source": []
  }
 ],
 "metadata": {
  "kernelspec": {
   "display_name": "Python 3 (ipykernel)",
   "language": "python",
   "name": "python3"
  },
  "language_info": {
   "codemirror_mode": {
    "name": "ipython",
    "version": 3
   },
   "file_extension": ".py",
   "mimetype": "text/x-python",
   "name": "python",
   "nbconvert_exporter": "python",
   "pygments_lexer": "ipython3",
   "version": "3.12.11"
  },
  "specta": {
   "defaultLayout": "slides",
   "hideTopbar": null,
   "slidesTheme": null
  }
 },
 "nbformat": 4,
 "nbformat_minor": 5
}
