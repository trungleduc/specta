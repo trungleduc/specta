{
 "cells": [
  {
   "cell_type": "markdown",
   "id": "a3abf27e",
   "metadata": {
    "editable": true,
    "slideshow": {
     "slide_type": ""
    },
    "specta": {
     "hideTopbar": true
    },
    "tags": []
   },
   "source": [
    "# Specta Demo"
   ]
  },
  {
   "cell_type": "code",
   "execution_count": null,
   "id": "c7b9a9df",
   "metadata": {
    "specta": {
     "hideTopbar": false
    },
    "vscode": {
     "languageId": "plaintext"
    }
   },
   "outputs": [],
   "source": [
    "from ipecharts.echarts import EChartsWidget, EChartsRawWidget\n",
    "from ipecharts.option import Option, XAxis, YAxis, Legend, Tooltip\n",
    "from ipecharts.option.series import Line\n",
    "from ipywidgets.widgets import Button\n",
    "import random"
   ]
  },
  {
   "cell_type": "code",
   "execution_count": null,
   "id": "55a66400",
   "metadata": {
    "editable": true,
    "slideshow": {
     "slide_type": ""
    },
    "tags": [
     "specta:visible"
    ],
    "vscode": {
     "languageId": "plaintext"
    }
   },
   "outputs": [],
   "source": [
    "line = Line(smooth=True, areaStyle={})\n",
    "\n",
    "option = Option(\n",
    "    xAxis=XAxis(type=\"category\"),\n",
    "    yAxis=YAxis(type=\"value\"),\n",
    "    series=[line],\n",
    "    tooltip=Tooltip(),\n",
    "    legend=Legend()\n",
    ")\n",
    "line.data = [1.,4.6,3.,6,4,7,9,3,9,3]"
   ]
  },
  {
   "cell_type": "code",
   "execution_count": null,
   "id": "d3476ccc",
   "metadata": {
    "editable": true,
    "slideshow": {
     "slide_type": ""
    },
    "tags": [
     "specta:visible"
    ],
    "vscode": {
     "languageId": "plaintext"
    }
   },
   "outputs": [],
   "source": [
    "button = Button(description=\"Generate random data\")\n",
    "\n",
    "def on_button_clicked(b):\n",
    "    data = random.sample(range(1, 100), 10)\n",
    "    line.data = data\n",
    "\n",
    "button.on_click(on_button_clicked)"
   ]
  },
  {
   "cell_type": "code",
   "execution_count": null,
   "id": "ef1ec21a",
   "metadata": {
    "vscode": {
     "languageId": "plaintext"
    }
   },
   "outputs": [],
   "source": [
    "chart = EChartsWidget(option=option)"
   ]
  },
  {
   "cell_type": "code",
   "execution_count": null,
   "id": "56a766f3",
   "metadata": {
    "vscode": {
     "languageId": "plaintext"
    }
   },
   "outputs": [],
   "source": [
    "display(button, chart)"
   ]
  }
 ],
 "metadata": {
  "kernelspec": {
   "display_name": "Python 3 (ipykernel)",
   "language": "python",
   "name": "python3"
  },
  "language_info": {
   "codemirror_mode": {
    "name": "ipython",
    "version": 3
   },
   "file_extension": ".py",
   "mimetype": "text/x-python",
   "name": "python",
   "nbconvert_exporter": "python",
   "pygments_lexer": "ipython3",
   "version": "3.11.13"
  },
  "specta": {
   "hideTopbar": false
  }
 },
 "nbformat": 4,
 "nbformat_minor": 5
}
