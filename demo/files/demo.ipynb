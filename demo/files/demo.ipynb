{
  "metadata": {
    "kernelspec": {
      "name": "xpython",
      "display_name": "Python 3.13 (XPython)",
      "language": "python"
    },
    "language_info": {
      "file_extension": ".py",
      "mimetype": "text/x-python",
      "name": "python",
      "version": "3.13.1"
    }
  },
  "nbformat_minor": 5,
  "nbformat": 4,
  "cells": [
    {
      "id": "a3abf27e",
      "cell_type": "markdown",
      "source": "# Specta Demo",
      "metadata": {}
    },
    {
      "id": "c7b9a9df",
      "cell_type": "code",
      "source": "from ipecharts.echarts import EChartsWidget, EChartsRawWidget\nfrom ipecharts.option import Option, XAxis, YAxis, Legend, Tooltip\nfrom ipecharts.option.series import Line\nfrom ipywidgets.widgets import Button\nimport random",
      "metadata": {
        "vscode": {
          "languageId": "plaintext"
        }
      },
      "outputs": [],
      "execution_count": null
    },
    {
      "id": "55a66400",
      "cell_type": "code",
      "source": "line = Line(smooth=True, areaStyle={})\n\noption = Option(\n    xAxis=XAxis(type=\"category\"),\n    yAxis=YAxis(type=\"value\"),\n    series=[line],\n    tooltip=Tooltip(),\n    legend=Legend()\n)\nline.data = [1.,4.6,3.,6,4,7,9,3,9,3]",
      "metadata": {
        "vscode": {
          "languageId": "plaintext"
        }
      },
      "outputs": [],
      "execution_count": null
    },
    {
      "id": "d3476ccc",
      "cell_type": "code",
      "source": "button = Button(description=\"Generate random data\")\n\ndef on_button_clicked(b):\n    data = random.sample(range(1, 100), 10)\n    line.data = data\n\nbutton.on_click(on_button_clicked)",
      "metadata": {
        "vscode": {
          "languageId": "plaintext"
        }
      },
      "outputs": [],
      "execution_count": null
    },
    {
      "id": "ef1ec21a",
      "cell_type": "code",
      "source": "chart = EChartsWidget(option=option)",
      "metadata": {
        "vscode": {
          "languageId": "plaintext"
        }
      },
      "outputs": [],
      "execution_count": null
    },
    {
      "id": "56a766f3",
      "cell_type": "code",
      "source": "display(button, chart)",
      "metadata": {
        "vscode": {
          "languageId": "plaintext"
        }
      },
      "outputs": [],
      "execution_count": null
    }
  ]
}
