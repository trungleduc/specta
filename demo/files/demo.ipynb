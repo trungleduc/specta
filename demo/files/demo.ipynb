{
 "cells": [
  {
   "cell_type": "markdown",
   "id": "a3abf27e",
   "metadata": {
    "editable": true,
    "slideshow": {
     "slide_type": ""
    },
    "specta": {
     "hideTopbar": true,
     "showSource": "Yes"
    },
    "tags": []
   },
   "source": [
    "# Specta Demo"
   ]
  },
  {
   "cell_type": "code",
   "execution_count": 1,
   "id": "c7b9a9df",
   "metadata": {
    "specta": {
     "hideTopbar": false,
     "showOutput": "No"
    },
    "vscode": {
     "languageId": "plaintext"
    }
   },
   "outputs": [],
   "source": [
    "from ipecharts.echarts import EChartsWidget, EChartsRawWidget\n",
    "from ipecharts.option import Option, XAxis, YAxis, Legend, Tooltip\n",
    "from ipecharts.option.series import Line\n",
    "from ipywidgets.widgets import Button\n",
    "import random"
   ]
  },
  {
   "cell_type": "code",
   "execution_count": 2,
   "id": "55a66400",
   "metadata": {
    "editable": true,
    "slideshow": {
     "slide_type": ""
    },
    "specta": {
     "showOutput": "No"
    },
    "tags": [
     "specta:visible"
    ],
    "vscode": {
     "languageId": "plaintext"
    }
   },
   "outputs": [],
   "source": [
    "line = Line(smooth=True, areaStyle={})\n",
    "\n",
    "option = Option(\n",
    "    xAxis=XAxis(type=\"category\"),\n",
    "    yAxis=YAxis(type=\"value\"),\n",
    "    series=[line],\n",
    "    tooltip=Tooltip(),\n",
    "    legend=Legend()\n",
    ")\n",
    "line.data = [1.,4.6,3.,6,4,7,9,3,9,3]"
   ]
  },
  {
   "cell_type": "code",
   "execution_count": 3,
   "id": "d3476ccc",
   "metadata": {
    "editable": true,
    "slideshow": {
     "slide_type": ""
    },
    "specta": {
     "showOutput": "No"
    },
    "tags": [
     "specta:visible"
    ],
    "vscode": {
     "languageId": "plaintext"
    }
   },
   "outputs": [],
   "source": [
    "button = Button(description=\"Generate random data\")\n",
    "\n",
    "def on_button_clicked(b):\n",
    "    data = random.sample(range(1, 100), 10)\n",
    "    line.data = data\n",
    "\n",
    "button.on_click(on_button_clicked)"
   ]
  },
  {
   "cell_type": "code",
   "execution_count": 4,
   "id": "ef1ec21a",
   "metadata": {
    "specta": {
     "showOutput": "No"
    },
    "vscode": {
     "languageId": "plaintext"
    }
   },
   "outputs": [],
   "source": [
    "chart = EChartsWidget(option=option)"
   ]
  },
  {
   "cell_type": "code",
   "execution_count": 5,
   "id": "56a766f3",
   "metadata": {
    "vscode": {
     "languageId": "plaintext"
    }
   },
   "outputs": [
    {
     "data": {
      "application/vnd.jupyter.widget-view+json": {
       "model_id": "db27293e7cf6461ba2ec0c01bfcb7af0",
       "version_major": 2,
       "version_minor": 0
      },
      "text/plain": [
       "Button(description='Generate random data', style=ButtonStyle())"
      ]
     },
     "metadata": {},
     "output_type": "display_data"
    },
    {
     "data": {
      "application/vnd.jupyter.widget-view+json": {
       "model_id": "e9d5f50e9cb74c2db47cc041eca1e10b",
       "version_major": 2,
       "version_minor": 0
      },
      "text/plain": [
       "EChartsWidget(option=Option(angleAxis=None, aria=None, axisPointer=None, brush=None, calendar=None, dataset=No…"
      ]
     },
     "metadata": {},
     "output_type": "display_data"
    }
   ],
   "source": [
    "display(button, chart)"
   ]
  },
  {
   "cell_type": "markdown",
   "id": "a8c02c9e-4a41-4da9-8150-18dfbfceb118",
   "metadata": {},
   "source": [
    "We explore the Lorenz system of differential equations:\n",
    "\n",
    "$$\n",
    "\\begin{aligned}\n",
    "\\dot{x} & = \\sigma(y-x) \\\\\n",
    "\\dot{y} & = \\rho x - y - xz \\\\\n",
    "\\dot{z} & = -\\beta z + xy\n",
    "\\end{aligned}\n",
    "$$\n",
    "\n",
    "Let's change (\\\\(\\sigma\\\\), \\\\(\\beta\\\\), \\\\(\\rho\\\\)) with ipywidgets and examine the trajectories."
   ]
  },
  {
   "cell_type": "code",
   "execution_count": null,
   "id": "65cc8229-f247-4832-922d-05c86b3e3efd",
   "metadata": {},
   "outputs": [],
   "source": []
  }
 ],
 "metadata": {
  "kernelspec": {
   "display_name": "Python 3 (ipykernel)",
   "language": "python",
   "name": "python3"
  },
  "language_info": {
   "codemirror_mode": {
    "name": "ipython",
    "version": 3
   },
   "file_extension": ".py",
   "mimetype": "text/x-python",
   "name": "python",
   "nbconvert_exporter": "python",
   "pygments_lexer": "ipython3",
   "version": "3.12.11"
  },
  "specta": {
   "defaultLayout": "slides",
   "hideTopbar": false
  }
 },
 "nbformat": 4,
 "nbformat_minor": 5
}
