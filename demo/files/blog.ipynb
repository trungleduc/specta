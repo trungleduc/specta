{
  "cells": [
    {
      "cell_type": "markdown",
      "id": "a3abf27e",
      "metadata": {},
      "source": [
        "# Data Visualization in Jupyter Notebooks using Apache Echarts\n"
      ]
    },
    {
      "cell_type": "markdown",
      "id": "21b59e76",
      "metadata": {},
      "source": [
        "![Banner](/files/top.jpeg \"Banner\")\n"
      ]
    },
    {
      "cell_type": "markdown",
      "id": "bf93b954",
      "metadata": {},
      "source": [
        "\n",
        "\n",
        "In the realm of data science and visualization, Jupyter Notebook has emerged as a powerful tool for data analysis and storytelling. Integrating interactive and aesthetically pleasing charts can significantly enhance the presentation of data insights.\n",
        "\n",
        "> **⚠️Experimental!⚠️**: This is an experimental interface provided by the [JupyterLite project](https://jupyterlite.readthedocs.io/en/latest/). It embeds an entire JupyterLab interface, with many popular packages for scientific computing, in your browser. There may be minor differences in behavior between JupyterLite and the JupyterLab you install locally. You may also encounter some bugs or unexpected behavior. To report any issues, or to get involved with the JupyterLite project, see [the JupyterLite repository](https://github.com/jupyterlite/jupyterlite/issues?q=is%3Aissue+is%3Aopen+sort%3Aupdated-desc).\n",
        "\n",
        "## JupyterLab 🧪\n",
        "\n",
        "**JupyterLab** is a next-generation web-based user interface for Project Jupyter. It enables you to work with documents and activities such as Jupyter notebooks, text editors, terminals, and custom components in a flexible, integrated, and extensible manner. It is the interface that you're looking at right now.\n",
        "\n",
        "**For an overview of the JupyterLab interface**, see the **JupyterLab Welcome Tour** on this page, by going to `Help -> Welcome Tour` and following the prompts.\n",
        "\n",
        "> **See Also**: For a more in-depth tour of JupyterLab with a full environment that runs in the cloud, see [the JupyterLab introduction on Binder](https://mybinder.org/v2/gh/jupyterlab/jupyterlab-demo/HEAD?urlpath=lab/tree/demo).\n",
        "\n",
        "## Jupyter Notebooks 📓\n",
        "\n",
        "**Jupyter Notebooks** are a community standard for communicating and performing interactive computing. They are a document that blends computations, outputs, explanatory text, mathematics, images, and rich media representations of objects.\n",
        "\n",
        "JupyterLab is one interface used to create and interact with Jupyter Notebooks.\n",
        "\n",
        "**For an overview of Jupyter Notebooks**, see the **JupyterLab Welcome Tour** on this page, by going to `Help -> Notebook Tour` and following the prompts.\n",
        "\n",
        "> **See Also**: For a more in-depth tour of Jupyter Notebooks and the Classic Jupyter Notebook interface, see [the Jupyter Notebook IPython tutorial on Binder](https://mybinder.org/v2/gh/ipython/ipython-in-depth/HEAD?urlpath=tree/binder/Index.ipynb).\n",
        "\n",
        "## An example: visualizing data in the notebook ✨\n",
        "\n",
        "Below is an example of a code cell. We'll visualize some simple data using two popular packages in Python. We'll use [NumPy](https://numpy.org/) to create some random data, and [Matplotlib](https://matplotlib.org) to visualize it.\n",
        "\n",
        "Note how the code and the results of running the code are bundled together."
      ]
    },
    {
      "cell_type": "code",
      "execution_count": null,
      "id": "73c120bd",
      "metadata": {
        "vscode": {
          "languageId": "plaintext"
        }
      },
      "outputs": [],
      "source": [
        "from matplotlib import pyplot as plt\n",
        "import numpy as np\n",
        "\n",
        "# Generate 100 random data points along 3 dimensions\n",
        "x, y, scale = np.random.randn(3, 100)\n",
        "fig, ax = plt.subplots()\n",
        "\n",
        "# Map each onto a scatterplot we'll create with Matplotlib\n",
        "ax.scatter(x=x, y=y, c=scale, s=np.abs(scale)*500)\n",
        "ax.set(title=\"Some random data, created with JupyterLab!\")\n",
        "plt.show()"
      ]
    },
    {
      "cell_type": "markdown",
      "id": "5e6be84d",
      "metadata": {},
      "source": [
        "## Next steps 🏃\n",
        "\n",
        "This is just a short introduction to JupyterLab and Jupyter Notebooks. See below for some more ways to interact with tools in the Jupyter ecosystem, and its community.\n",
        "\n",
        "### Other notebooks in this demo\n",
        "\n",
        "Here are some other notebooks in this demo. Each of the items below corresponds to a file or folder in the **file browser to the left**.\n",
        "\n",
        "- [**`Lorenz.ipynb`**](Lorenz.ipynb) uses Python to demonstrate interactive visualizations and computations around the [Lorenz system](https://en.wikipedia.org/wiki/Lorenz_system). It shows off basic Python functionality, including more visualizations, data structures, and scientific computing libraries.\n",
        "- [**`r.ipynb`**](r.ipynb) demonstrates the R programming language for statistical computing and data analysis.\n",
        "- [**`sqlite.ipynb`**](sqlite.ipynb) demonstrates how an in-browser sqlite kernel to run your own SQL commands from the notebook. It uses the [jupyterlite/xeus-sqlite-kernel](https://github.com/jupyterlite/xeus-sqlite-kernel).\n",
        "\n",
        "### Other sources of information in Jupyter\n",
        "\n",
        "- **More on using JupyterLab**: See [the JupyterLab documentation](https://jupyterlab.readthedocs.io/en/stable/) for more thorough information about how to install and use JupyterLab.\n",
        "- **More interactive demos**: See [try.jupyter.org](https://try.jupyter.org) for more interactive demos with the Jupyter ecosystem.\n",
        "- **Learn more about Jupyter**: See [the Jupyter community documentation](https://docs.jupyter.org) to learn more about the project, its community and tools, and how to get involved.\n",
        "- **Join our discussions**: The [Jupyter Community Forum](https://discourse.jupyter.org) is a place where many in the Jupyter community ask questions, help one another, and discuss issues around interactive computing and our ecosystem."
      ]
    },
    {
      "cell_type": "code",
      "execution_count": null,
      "id": "16798a90",
      "metadata": {
        "vscode": {
          "languageId": "plaintext"
        }
      },
      "outputs": [],
      "source": [
        "from ipecharts.echarts import EChartsWidget, EChartsRawWidget\n",
        "from ipecharts.option import Option, XAxis, YAxis, Legend, Tooltip\n",
        "from ipecharts.option.series import Line\n",
        "from ipywidgets.widgets import Button\n",
        "import random\n",
        "\n",
        "line = Line(smooth=True, areaStyle={})\n",
        "\n",
        "option = Option(\n",
        "    xAxis=XAxis(type=\"category\"),\n",
        "    yAxis=YAxis(type=\"value\"),\n",
        "    series=[line],\n",
        "    tooltip=Tooltip(),\n",
        "    legend=Legend()\n",
        ")\n",
        "line.data = [1.,4.6,3.,6,4,7,9,3,9,3]\n",
        "\n",
        "button = Button(description=\"Generate data\")\n",
        "\n",
        "def on_button_clicked(b):\n",
        "    data = random.sample(range(1, 100), 10)\n",
        "    line.data = data\n",
        "\n",
        "button.on_click(on_button_clicked)\n",
        "\n",
        "chart = EChartsWidget(option=option)\n",
        "display(button, chart)"
      ]
    }
  ],
  "metadata": {
    "kernelspec": {
      "display_name": "Python 3.13 (XPython)",
      "language": "python",
      "name": "xpython"
    },
    "language_info": {
      "file_extension": ".py",
      "mimetype": "text/x-python",
      "name": "python",
      "version": "3.13.1"
    }
  },
  "nbformat": 4,
  "nbformat_minor": 5
}
