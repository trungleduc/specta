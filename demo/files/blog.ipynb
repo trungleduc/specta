{
  "cells": [
    {
      "cell_type": "markdown",
      "id": "a3abf27e",
      "metadata": {},
      "source": [
        "# Data Visualization in Jupyter Notebooks using Apache Echarts\n"
      ]
    },
    {
      "cell_type": "markdown",
      "id": "21b59e76",
      "metadata": {},
      "source": [
        "![Banner](/files/top.jpeg \"Banner\")\n"
      ]
    },
    {
      "cell_type": "markdown",
      "id": "bf93b954",
      "metadata": {},
      "source": [
        "\n",
        "\n",
        "In the realm of data science and visualization, Jupyter Notebook has emerged as a powerful tool for data analysis and storytelling. Integrating interactive and aesthetically pleasing charts can significantly enhance the presentation of data insights."
      ]
    },
    {
      "cell_type": "markdown",
      "id": "a3826498",
      "metadata": {},
      "source": [
        "[Apache Echarts](https://echarts.apache.org/en/index.html) is one of the most versatile libraries for creating interactive charts. This blog post explores how to leverage ipecharts, a new Python library that seamlessly integrates Echarts into Jupyter Notebooks, to craft stunning visualizations within your notebooks.\n",
        "\n",
        "*Disclaimer: I am the author of this library.*"
      ]
    },
    {
      "cell_type": "markdown",
      "id": "1a2ffcfd",
      "metadata": {},
      "source": [
        "<p style=\"text-align: center;\">• • •</p>"
      ]
    },
    {
      "cell_type": "markdown",
      "id": "e2569313",
      "metadata": {},
      "source": [
        "## Motivation\n",
        "\n",
        "`ipecharts` is not the first attempt to make Echarts available on Jupyter Notebooks. pyecharts is a popular open-source library that allows you to create interactive charts in Python and supports both notebooks and standalone Python scripts."
      ]
    },
    {
      "cell_type": "markdown",
      "id": "330ee266",
      "metadata": {},
      "source": [
        "While pyechartscan create charts in the notebooks, it does not use the Jupyter Widgets system but instead injects HTML code into the notebook to render the charts. This approach makes using pyecharts in other Jupyter applications or interacting with other widgets libraries harder."
      ]
    },
    {
      "cell_type": "markdown",
      "id": "6e320817",
      "metadata": {},
      "source": [
        "On the other hand, ipecharts adopts the native way of creating interactive charts in Jupyter Notebooks by using Jupyter Widgets. It makes the created charts compatible with a wide range of tools and libraries in the Jupyter ecosystem."
      ]
    },
    {
      "cell_type": "markdown",
      "id": "250f141f",
      "metadata": {},
      "source": [
        "<p style=\"text-align: center;\">• • •</p>"
      ]
    },
    {
      "cell_type": "markdown",
      "id": "fc22d007",
      "metadata": {},
      "source": [
        "## Getting started with ipecharts"
      ]
    },
    {
      "cell_type": "markdown",
      "id": "b05b1479",
      "metadata": {},
      "source": [
        "### Installation\n",
        "\n",
        "`ipecharts` is available on PyPI and conda-forge:\n",
        "\n",
        "```bash\n",
        "# Installing with pip\n",
        "pip install ipecharts\n",
        "\n",
        "# Installing with conda\n",
        "conda install -c conda-forge ipecharts\n",
        "```\n",
        "\n",
        "It requires ipywidgets ≥8.0 and does not work with Jupyter Notebook <7 . More detailed documentation is available at Read the Docs. You can also try it live in this JupyterLite instance."
      ]
    },
    {
      "cell_type": "markdown",
      "id": "ce613931",
      "metadata": {},
      "source": [
        "### Creating a simple line plot\n",
        "\n",
        "ipechart is a very slim wrapper outside of the Echarts Javascript library so translating the Javascript version of a chart into ipechartswidget is straightforward. Let’s begin with a basic line example from Echarts official documentation:\n",
        "\n",
        "```typescript\n",
        "// Example from https://echarts.apache.org/examples/en/editor.html?c=line-simple&lang=ts\n",
        "import * as echarts from 'echarts';\n",
        "\n",
        "type EChartsOption = echarts.EChartsOption;\n",
        "\n",
        "var chartDom = document.getElementById('main')!;\n",
        "var myChart = echarts.init(chartDom);\n",
        "var option: EChartsOption;\n",
        "\n",
        "option = {\n",
        "  xAxis: {\n",
        "    type: 'category',\n",
        "    data: ['Mon', 'Tue', 'Wed', 'Thu', 'Fri', 'Sat', 'Sun']\n",
        "  },\n",
        "  yAxis: {\n",
        "    type: 'value'\n",
        "  },\n",
        "  series: [\n",
        "    {\n",
        "      data: [150, 230, 224, 218, 135, 147, 260],\n",
        "      type: 'line'\n",
        "    }\n",
        "  ]\n",
        "};\n",
        "\n",
        "option && myChart.setOption(option);\n",
        "```"
      ]
    },
    {
      "cell_type": "markdown",
      "id": "7824f42f",
      "metadata": {},
      "source": [
        "The entry point of a chart in ipecharts is the EchartWidget class:\n"
      ]
    },
    {
      "cell_type": "code",
      "execution_count": null,
      "id": "3de1a807",
      "metadata": {
        "tags": [
          "specta:visible"
        ],
        "vscode": {
          "languageId": "plaintext"
        }
      },
      "outputs": [],
      "source": [
        "from ipecharts import EChartsWidget\n",
        "chart = EChartsWidget()"
      ]
    },
    {
      "cell_type": "markdown",
      "id": "503e0e22",
      "metadata": {},
      "source": [
        "Just as in the Javascript example, we need to set the option of this chart. For all top-level keys of the Echarts option and the entries of series, ipecharts provides Python class counterparts with the same name. Here is the equivalent of the above option object defined with ipecharts classes:\n"
      ]
    },
    {
      "cell_type": "code",
      "execution_count": null,
      "id": "d8741975",
      "metadata": {
        "tags": [
          "specta:visible"
        ],
        "vscode": {
          "languageId": "plaintext"
        }
      },
      "outputs": [],
      "source": [
        "from ipecharts.option import Option, XAxis, YAxis\n",
        "from ipecharts.option.series import Line\n",
        "\n",
        "xAxis = XAxis(\n",
        "    type=\"category\",\n",
        "    data=[\"Mon\", \"Tue\", \"Wed\", \"Thu\", \"Fri\", \"Sat\", \"Sun\"],\n",
        ")\n",
        "yAxis = YAxis(type=\"value\")\n",
        "line = Line(data=[150, 230, 224, 218, 135, 147, 260])\n",
        "\n",
        "option = Option()\n",
        "option.xAxis = xAxis\n",
        "option.yAxis = yAxis\n",
        "option.series = [line]"
      ]
    },
    {
      "cell_type": "markdown",
      "id": "c001b376",
      "metadata": {},
      "source": [
        "All classes here are based on traitlets so you can initialize the instance by using keyword arguments or by setting the property values. Finally, updating the option value of our chart gives us the same chart as the Javascript \n"
      ]
    },
    {
      "cell_type": "code",
      "execution_count": null,
      "id": "2b2c01c4",
      "metadata": {
        "tags": [
          "specta:visible"
        ],
        "vscode": {
          "languageId": "plaintext"
        }
      },
      "outputs": [],
      "source": [
        "chart.option = option\n",
        "chart"
      ]
    },
    {
      "cell_type": "markdown",
      "id": "19dea3c1",
      "metadata": {},
      "source": [
        "### Adding Interactivity"
      ]
    },
    {
      "cell_type": "markdown",
      "id": "1105f857",
      "metadata": {},
      "source": [
        "By using traitlets to configure your chart, any change in the option properties will be applied to the chart automatically. We will use the Button widget of ipywidgets to change the line data dynamically.\n"
      ]
    },
    {
      "cell_type": "code",
      "execution_count": null,
      "id": "a5fb539d",
      "metadata": {
        "tags": [
          "specta:visible"
        ],
        "vscode": {
          "languageId": "plaintext"
        }
      },
      "outputs": [],
      "source": [
        "from ipywidgets.widgets import Button\n",
        "from numpy.random import randint\n",
        "\n",
        "def update_line_data(b): \n",
        "    line.data = randint(0, 300, 7).tolist()\n",
        "\n",
        "button = Button(description=\"Generate data\")\n",
        "button.on_click(update_line_data)\n",
        "\n",
        "display(button, chart)"
      ]
    },
    {
      "cell_type": "markdown",
      "id": "0e491acc",
      "metadata": {},
      "source": [
        "In the on_click callback of the button, we update the data property of the line instance, the changed signal is propagated up to the top-level widget and the chart will be updated automatically."
      ]
    },
    {
      "cell_type": "markdown",
      "id": "86b1b92d",
      "metadata": {},
      "source": [
        "### Creating charts without using traitlets configuration"
      ]
    },
    {
      "cell_type": "markdown",
      "id": "2e5acf08",
      "metadata": {},
      "source": [
        "In many situations, we simply want to display the data without adding interactivity. For this use case, users can convert any option object used by a Javascript chart to a Python dictionary and pass it to the EchartRawWidget of ipecharts.\n",
        "\n",
        "Here is the equivalent of the Two Value-Axes in Polar example from the official Echarts documentation using EchartRawWidget:"
      ]
    },
    {
      "cell_type": "code",
      "execution_count": null,
      "id": "933a5a49",
      "metadata": {
        "tags": [
          "specta:visible"
        ],
        "vscode": {
          "languageId": "plaintext"
        }
      },
      "outputs": [],
      "source": [
        "from ipecharts import EChartsRawWidget\n",
        "import math\n",
        "\n",
        "data = []\n",
        "for i in range(101):\n",
        "    theta = (i / 100) * 360\n",
        "    r = 5 * (1 + math.sin((theta / 180) * math.pi))\n",
        "    data.append([r, theta])\n",
        "\n",
        "option = {\n",
        "    \"title\": {\"text\": \"Two Value-Axes in Polar\"},\n",
        "    \"legend\": {\"data\": [\"line\"]},\n",
        "    \"polar\": {},\n",
        "    \"tooltip\": {\"trigger\": \"axis\", \"axisPointer\": {\"type\": \"cross\"}},\n",
        "    \"angleAxis\": {\"type\": \"value\", \"startAngle\": 0},\n",
        "    \"radiusAxis\": {},\n",
        "    \"series\": [\n",
        "        {\"coordinateSystem\": \"polar\", \"name\": \"line\", \"type\": \"line\", \"data\": data}\n",
        "    ],\n",
        "}\n",
        "EChartsRawWidget(option=option)"
      ]
    },
    {
      "cell_type": "markdown",
      "id": "213d1b6b",
      "metadata": {},
      "source": [
        "## What’s next\n",
        "\n",
        "In this first version, I focused on generating the option configuration class to be able to translate the Javascript charts to the Python ones without too many changes. Echarts has a lot of other customizations in theming, managing maps, or chart animation… These aspects will be addressed in future releases.\n",
        "\n",
        "You can follow the development of this library on GitHub. Stay tuned and happy charting!"
      ]
    },
    {
      "cell_type": "markdown",
      "id": "b7129618",
      "metadata": {},
      "source": [
        "## About the author\n",
        "\n",
        "Duc Trung Le is an open-source developer who works on this project in his free time."
      ]
    },
    {
      "cell_type": "markdown",
      "id": "1dd7aa92",
      "metadata": {},
      "source": []
    }
  ],
  "metadata": {
    "kernelspec": {
      "display_name": "Python 3.13 (XPython)",
      "language": "python",
      "name": "xpython"
    },
    "language_info": {
      "file_extension": ".py",
      "mimetype": "text/x-python",
      "name": "python",
      "version": "3.13.1"
    }
  },
  "nbformat": 4,
  "nbformat_minor": 5
}
