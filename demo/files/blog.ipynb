{
  "cells": [
    {
      "cell_type": "markdown",
      "id": "a3abf27e",
      "metadata": {},
      "source": [
        "# Data Visualization in Jupyter Notebooks using Apache Echarts\n"
      ]
    },
    {
      "cell_type": "markdown",
      "id": "21b59e76",
      "metadata": {},
      "source": [
        "![Banner](/files/top.jpeg \"Banner\")\n"
      ]
    },
    {
      "cell_type": "markdown",
      "id": "bf93b954",
      "metadata": {},
      "source": [
        "\n",
        "\n",
        "In the realm of data science and visualization, Jupyter Notebook has emerged as a powerful tool for data analysis and storytelling. Integrating interactive and aesthetically pleasing charts can significantly enhance the presentation of data insights."
      ]
    },
    {
      "cell_type": "markdown",
      "id": "a3826498",
      "metadata": {},
      "source": [
        "[Apache Echarts](https://echarts.apache.org/en/index.html) is one of the most versatile libraries for creating interactive charts. This blog post explores how to leverage ipecharts, a new Python library that seamlessly integrates Echarts into Jupyter Notebooks, to craft stunning visualizations within your notebooks.\n",
        "\n",
        "*Disclaimer: I am the author of this library.*"
      ]
    },
    {
      "cell_type": "markdown",
      "id": "1a2ffcfd",
      "metadata": {},
      "source": [
        "<p style=\"text-align: center;\">• • •</p>"
      ]
    },
    {
      "cell_type": "markdown",
      "id": "e2569313",
      "metadata": {},
      "source": [
        "## Motivation"
      ]
    },
    {
      "cell_type": "markdown",
      "id": "e9fd7592",
      "metadata": {},
      "source": [
        "ipecharts is not the first attempt to make Echarts available on Jupyter Notebooks. pyecharts is a popular open-source library that allows you to create interactive charts in Python and supports both notebooks and standalone Python scripts."
      ]
    },
    {
      "cell_type": "markdown",
      "id": "330ee266",
      "metadata": {},
      "source": [
        "While pyechartscan create charts in the notebooks, it does not use the Jupyter Widgets system but instead injects HTML code into the notebook to render the charts. This approach makes using pyecharts in other Jupyter applications or interacting with other widgets libraries harder."
      ]
    },
    {
      "cell_type": "markdown",
      "id": "6e320817",
      "metadata": {},
      "source": [
        "On the other hand, ipecharts adopts the native way of creating interactive charts in Jupyter Notebooks by using Jupyter Widgets. It makes the created charts compatible with a wide range of tools and libraries in the Jupyter ecosystem."
      ]
    },
    {
      "cell_type": "markdown",
      "id": "250f141f",
      "metadata": {},
      "source": [
        "<p style=\"text-align: center;\">• • •</p>"
      ]
    },
    {
      "cell_type": "markdown",
      "id": "fc22d007",
      "metadata": {},
      "source": [
        "## Getting started with ipecharts"
      ]
    },
    {
      "cell_type": "markdown",
      "id": "b05b1479",
      "metadata": {},
      "source": [
        "### Installation\n",
        "\n",
        "`ipecharts` is available on PyPI and conda-forge:\n",
        "\n",
        "```bash\n",
        "# Installing with pip\n",
        "pip install ipecharts\n",
        "\n",
        "# Installing with conda\n",
        "conda install -c conda-forge ipecharts\n",
        "```\n",
        "\n",
        "It requires ipywidgets ≥8.0 and does not work with Jupyter Notebook <7 . More detailed documentation is available at Read the Docs. You can also try it live in this JupyterLite instance."
      ]
    },
    {
      "cell_type": "markdown",
      "id": "ce613931",
      "metadata": {},
      "source": [
        "### Creating a simple line plot\n",
        "\n",
        "ipechart is a very slim wrapper outside of the Echarts Javascript library so translating the Javascript version of a chart into ipechartswidget is straightforward. Let’s begin with a basic line example from Echarts official documentation:\n",
        "\n",
        "```javascript\n",
        "// Example from https://echarts.apache.org/examples/en/editor.html?c=line-simple&lang=ts\n",
        "import * as echarts from 'echarts';\n",
        "\n",
        "type EChartsOption = echarts.EChartsOption;\n",
        "\n",
        "var chartDom = document.getElementById('main')!;\n",
        "var myChart = echarts.init(chartDom);\n",
        "var option: EChartsOption;\n",
        "\n",
        "option = {\n",
        "  xAxis: {\n",
        "    type: 'category',\n",
        "    data: ['Mon', 'Tue', 'Wed', 'Thu', 'Fri', 'Sat', 'Sun']\n",
        "  },\n",
        "  yAxis: {\n",
        "    type: 'value'\n",
        "  },\n",
        "  series: [\n",
        "    {\n",
        "      data: [150, 230, 224, 218, 135, 147, 260],\n",
        "      type: 'line'\n",
        "    }\n",
        "  ]\n",
        "};\n",
        "\n",
        "option && myChart.setOption(option);\n",
        "```"
      ]
    },
    {
      "cell_type": "markdown",
      "id": "1dd7aa92",
      "metadata": {},
      "source": []
    }
  ],
  "metadata": {
    "kernelspec": {
      "display_name": "Python 3.13 (XPython)",
      "language": "python",
      "name": "xpython"
    },
    "language_info": {
      "file_extension": ".py",
      "mimetype": "text/x-python",
      "name": "python",
      "version": "3.13.1"
    }
  },
  "nbformat": 4,
  "nbformat_minor": 5
}
